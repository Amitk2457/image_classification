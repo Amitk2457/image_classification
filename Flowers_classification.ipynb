{
  "nbformat": 4,
  "nbformat_minor": 0,
  "metadata": {
    "colab": {
      "provenance": [],
      "gpuType": "T4",
      "authorship_tag": "ABX9TyO8RMoileKXJX9Kb97DOkO0"
    },
    "kernelspec": {
      "name": "python3",
      "display_name": "Python 3"
    },
    "language_info": {
      "name": "python"
    },
    "accelerator": "GPU",
    "widgets": {
      "application/vnd.jupyter.widget-state+json": {
        "9b045c98c5e3407697fbc8c73094e977": {
          "model_module": "@jupyter-widgets/controls",
          "model_name": "HBoxModel",
          "model_module_version": "1.5.0",
          "state": {
            "_dom_classes": [],
            "_model_module": "@jupyter-widgets/controls",
            "_model_module_version": "1.5.0",
            "_model_name": "HBoxModel",
            "_view_count": null,
            "_view_module": "@jupyter-widgets/controls",
            "_view_module_version": "1.5.0",
            "_view_name": "HBoxView",
            "box_style": "",
            "children": [
              "IPY_MODEL_35876d014d6b4cb684dc8bbb62abaf60",
              "IPY_MODEL_615a19016757420ab398734fcb2f7ac2",
              "IPY_MODEL_c3ea98cc27dc4168ae39f214efec89fc"
            ],
            "layout": "IPY_MODEL_b9ae7b5b89644807b350516f2e224f6e"
          }
        },
        "35876d014d6b4cb684dc8bbb62abaf60": {
          "model_module": "@jupyter-widgets/controls",
          "model_name": "HTMLModel",
          "model_module_version": "1.5.0",
          "state": {
            "_dom_classes": [],
            "_model_module": "@jupyter-widgets/controls",
            "_model_module_version": "1.5.0",
            "_model_name": "HTMLModel",
            "_view_count": null,
            "_view_module": "@jupyter-widgets/controls",
            "_view_module_version": "1.5.0",
            "_view_name": "HTMLView",
            "description": "",
            "description_tooltip": null,
            "layout": "IPY_MODEL_02c5ec56db424cdeb7df36438b3f4857",
            "placeholder": "​",
            "style": "IPY_MODEL_56e312e60b2f497e8855a445a679901c",
            "value": "Dl Completed...: 100%"
          }
        },
        "615a19016757420ab398734fcb2f7ac2": {
          "model_module": "@jupyter-widgets/controls",
          "model_name": "FloatProgressModel",
          "model_module_version": "1.5.0",
          "state": {
            "_dom_classes": [],
            "_model_module": "@jupyter-widgets/controls",
            "_model_module_version": "1.5.0",
            "_model_name": "FloatProgressModel",
            "_view_count": null,
            "_view_module": "@jupyter-widgets/controls",
            "_view_module_version": "1.5.0",
            "_view_name": "ProgressView",
            "bar_style": "success",
            "description": "",
            "description_tooltip": null,
            "layout": "IPY_MODEL_a0efecf8b6b24efe9861020c94dcb917",
            "max": 5,
            "min": 0,
            "orientation": "horizontal",
            "style": "IPY_MODEL_42e7d53184e74f0981b505eff6e3bc3e",
            "value": 5
          }
        },
        "c3ea98cc27dc4168ae39f214efec89fc": {
          "model_module": "@jupyter-widgets/controls",
          "model_name": "HTMLModel",
          "model_module_version": "1.5.0",
          "state": {
            "_dom_classes": [],
            "_model_module": "@jupyter-widgets/controls",
            "_model_module_version": "1.5.0",
            "_model_name": "HTMLModel",
            "_view_count": null,
            "_view_module": "@jupyter-widgets/controls",
            "_view_module_version": "1.5.0",
            "_view_name": "HTMLView",
            "description": "",
            "description_tooltip": null,
            "layout": "IPY_MODEL_9ab27afcd21d47b488efbd7c87d29bb0",
            "placeholder": "​",
            "style": "IPY_MODEL_2f4889dcfe9f41deb212291807c9bc2f",
            "value": " 5/5 [00:02&lt;00:00,  2.10 file/s]"
          }
        },
        "b9ae7b5b89644807b350516f2e224f6e": {
          "model_module": "@jupyter-widgets/base",
          "model_name": "LayoutModel",
          "model_module_version": "1.2.0",
          "state": {
            "_model_module": "@jupyter-widgets/base",
            "_model_module_version": "1.2.0",
            "_model_name": "LayoutModel",
            "_view_count": null,
            "_view_module": "@jupyter-widgets/base",
            "_view_module_version": "1.2.0",
            "_view_name": "LayoutView",
            "align_content": null,
            "align_items": null,
            "align_self": null,
            "border": null,
            "bottom": null,
            "display": null,
            "flex": null,
            "flex_flow": null,
            "grid_area": null,
            "grid_auto_columns": null,
            "grid_auto_flow": null,
            "grid_auto_rows": null,
            "grid_column": null,
            "grid_gap": null,
            "grid_row": null,
            "grid_template_areas": null,
            "grid_template_columns": null,
            "grid_template_rows": null,
            "height": null,
            "justify_content": null,
            "justify_items": null,
            "left": null,
            "margin": null,
            "max_height": null,
            "max_width": null,
            "min_height": null,
            "min_width": null,
            "object_fit": null,
            "object_position": null,
            "order": null,
            "overflow": null,
            "overflow_x": null,
            "overflow_y": null,
            "padding": null,
            "right": null,
            "top": null,
            "visibility": null,
            "width": null
          }
        },
        "02c5ec56db424cdeb7df36438b3f4857": {
          "model_module": "@jupyter-widgets/base",
          "model_name": "LayoutModel",
          "model_module_version": "1.2.0",
          "state": {
            "_model_module": "@jupyter-widgets/base",
            "_model_module_version": "1.2.0",
            "_model_name": "LayoutModel",
            "_view_count": null,
            "_view_module": "@jupyter-widgets/base",
            "_view_module_version": "1.2.0",
            "_view_name": "LayoutView",
            "align_content": null,
            "align_items": null,
            "align_self": null,
            "border": null,
            "bottom": null,
            "display": null,
            "flex": null,
            "flex_flow": null,
            "grid_area": null,
            "grid_auto_columns": null,
            "grid_auto_flow": null,
            "grid_auto_rows": null,
            "grid_column": null,
            "grid_gap": null,
            "grid_row": null,
            "grid_template_areas": null,
            "grid_template_columns": null,
            "grid_template_rows": null,
            "height": null,
            "justify_content": null,
            "justify_items": null,
            "left": null,
            "margin": null,
            "max_height": null,
            "max_width": null,
            "min_height": null,
            "min_width": null,
            "object_fit": null,
            "object_position": null,
            "order": null,
            "overflow": null,
            "overflow_x": null,
            "overflow_y": null,
            "padding": null,
            "right": null,
            "top": null,
            "visibility": null,
            "width": null
          }
        },
        "56e312e60b2f497e8855a445a679901c": {
          "model_module": "@jupyter-widgets/controls",
          "model_name": "DescriptionStyleModel",
          "model_module_version": "1.5.0",
          "state": {
            "_model_module": "@jupyter-widgets/controls",
            "_model_module_version": "1.5.0",
            "_model_name": "DescriptionStyleModel",
            "_view_count": null,
            "_view_module": "@jupyter-widgets/base",
            "_view_module_version": "1.2.0",
            "_view_name": "StyleView",
            "description_width": ""
          }
        },
        "a0efecf8b6b24efe9861020c94dcb917": {
          "model_module": "@jupyter-widgets/base",
          "model_name": "LayoutModel",
          "model_module_version": "1.2.0",
          "state": {
            "_model_module": "@jupyter-widgets/base",
            "_model_module_version": "1.2.0",
            "_model_name": "LayoutModel",
            "_view_count": null,
            "_view_module": "@jupyter-widgets/base",
            "_view_module_version": "1.2.0",
            "_view_name": "LayoutView",
            "align_content": null,
            "align_items": null,
            "align_self": null,
            "border": null,
            "bottom": null,
            "display": null,
            "flex": null,
            "flex_flow": null,
            "grid_area": null,
            "grid_auto_columns": null,
            "grid_auto_flow": null,
            "grid_auto_rows": null,
            "grid_column": null,
            "grid_gap": null,
            "grid_row": null,
            "grid_template_areas": null,
            "grid_template_columns": null,
            "grid_template_rows": null,
            "height": null,
            "justify_content": null,
            "justify_items": null,
            "left": null,
            "margin": null,
            "max_height": null,
            "max_width": null,
            "min_height": null,
            "min_width": null,
            "object_fit": null,
            "object_position": null,
            "order": null,
            "overflow": null,
            "overflow_x": null,
            "overflow_y": null,
            "padding": null,
            "right": null,
            "top": null,
            "visibility": null,
            "width": null
          }
        },
        "42e7d53184e74f0981b505eff6e3bc3e": {
          "model_module": "@jupyter-widgets/controls",
          "model_name": "ProgressStyleModel",
          "model_module_version": "1.5.0",
          "state": {
            "_model_module": "@jupyter-widgets/controls",
            "_model_module_version": "1.5.0",
            "_model_name": "ProgressStyleModel",
            "_view_count": null,
            "_view_module": "@jupyter-widgets/base",
            "_view_module_version": "1.2.0",
            "_view_name": "StyleView",
            "bar_color": null,
            "description_width": ""
          }
        },
        "9ab27afcd21d47b488efbd7c87d29bb0": {
          "model_module": "@jupyter-widgets/base",
          "model_name": "LayoutModel",
          "model_module_version": "1.2.0",
          "state": {
            "_model_module": "@jupyter-widgets/base",
            "_model_module_version": "1.2.0",
            "_model_name": "LayoutModel",
            "_view_count": null,
            "_view_module": "@jupyter-widgets/base",
            "_view_module_version": "1.2.0",
            "_view_name": "LayoutView",
            "align_content": null,
            "align_items": null,
            "align_self": null,
            "border": null,
            "bottom": null,
            "display": null,
            "flex": null,
            "flex_flow": null,
            "grid_area": null,
            "grid_auto_columns": null,
            "grid_auto_flow": null,
            "grid_auto_rows": null,
            "grid_column": null,
            "grid_gap": null,
            "grid_row": null,
            "grid_template_areas": null,
            "grid_template_columns": null,
            "grid_template_rows": null,
            "height": null,
            "justify_content": null,
            "justify_items": null,
            "left": null,
            "margin": null,
            "max_height": null,
            "max_width": null,
            "min_height": null,
            "min_width": null,
            "object_fit": null,
            "object_position": null,
            "order": null,
            "overflow": null,
            "overflow_x": null,
            "overflow_y": null,
            "padding": null,
            "right": null,
            "top": null,
            "visibility": null,
            "width": null
          }
        },
        "2f4889dcfe9f41deb212291807c9bc2f": {
          "model_module": "@jupyter-widgets/controls",
          "model_name": "DescriptionStyleModel",
          "model_module_version": "1.5.0",
          "state": {
            "_model_module": "@jupyter-widgets/controls",
            "_model_module_version": "1.5.0",
            "_model_name": "DescriptionStyleModel",
            "_view_count": null,
            "_view_module": "@jupyter-widgets/base",
            "_view_module_version": "1.2.0",
            "_view_name": "StyleView",
            "description_width": ""
          }
        }
      }
    }
  },
  "cells": [
    {
      "cell_type": "code",
      "execution_count": 1,
      "metadata": {
        "id": "HQQvLHqBdC9S"
      },
      "outputs": [],
      "source": [
        "import os\n",
        "import numpy as np\n",
        "import pandas as pd\n",
        "import tensorflow as tf\n",
        "import tensorflow_datasets as tfds\n",
        "import matplotlib.pyplot as plt"
      ]
    },
    {
      "cell_type": "markdown",
      "source": [
        "##Loading Data"
      ],
      "metadata": {
        "id": "-mt6QXzCVfdk"
      }
    },
    {
      "cell_type": "code",
      "source": [
        "dataset,info = tfds.load('tf_flowers',with_info = True,as_supervised = True)"
      ],
      "metadata": {
        "id": "mBPgHCHndJRT",
        "colab": {
          "base_uri": "https://localhost:8080/",
          "height": 84,
          "referenced_widgets": [
            "9b045c98c5e3407697fbc8c73094e977",
            "35876d014d6b4cb684dc8bbb62abaf60",
            "615a19016757420ab398734fcb2f7ac2",
            "c3ea98cc27dc4168ae39f214efec89fc",
            "b9ae7b5b89644807b350516f2e224f6e",
            "02c5ec56db424cdeb7df36438b3f4857",
            "56e312e60b2f497e8855a445a679901c",
            "a0efecf8b6b24efe9861020c94dcb917",
            "42e7d53184e74f0981b505eff6e3bc3e",
            "9ab27afcd21d47b488efbd7c87d29bb0",
            "2f4889dcfe9f41deb212291807c9bc2f"
          ]
        },
        "outputId": "44ccea3d-a157-414f-87c0-9863654257aa"
      },
      "execution_count": 2,
      "outputs": [
        {
          "output_type": "stream",
          "name": "stdout",
          "text": [
            "Downloading and preparing dataset 218.21 MiB (download: 218.21 MiB, generated: 221.83 MiB, total: 440.05 MiB) to /root/tensorflow_datasets/tf_flowers/3.0.1...\n"
          ]
        },
        {
          "output_type": "display_data",
          "data": {
            "text/plain": [
              "Dl Completed...:   0%|          | 0/5 [00:00<?, ? file/s]"
            ],
            "application/vnd.jupyter.widget-view+json": {
              "version_major": 2,
              "version_minor": 0,
              "model_id": "9b045c98c5e3407697fbc8c73094e977"
            }
          },
          "metadata": {}
        },
        {
          "output_type": "stream",
          "name": "stdout",
          "text": [
            "Dataset tf_flowers downloaded and prepared to /root/tensorflow_datasets/tf_flowers/3.0.1. Subsequent calls will reuse this data.\n"
          ]
        }
      ]
    },
    {
      "cell_type": "code",
      "source": [
        "info"
      ],
      "metadata": {
        "colab": {
          "base_uri": "https://localhost:8080/"
        },
        "id": "fvLAmpRaMxn5",
        "outputId": "61036872-c57a-40b6-b0f2-7c6aa93224ba"
      },
      "execution_count": 3,
      "outputs": [
        {
          "output_type": "execute_result",
          "data": {
            "text/plain": [
              "tfds.core.DatasetInfo(\n",
              "    name='tf_flowers',\n",
              "    full_name='tf_flowers/3.0.1',\n",
              "    description=\"\"\"\n",
              "    A large set of images of flowers\n",
              "    \"\"\",\n",
              "    homepage='https://www.tensorflow.org/tutorials/load_data/images',\n",
              "    data_dir='/root/tensorflow_datasets/tf_flowers/3.0.1.incompleteVKZVJZ',\n",
              "    file_format=tfrecord,\n",
              "    download_size=218.21 MiB,\n",
              "    dataset_size=221.83 MiB,\n",
              "    features=FeaturesDict({\n",
              "        'image': Image(shape=(None, None, 3), dtype=uint8),\n",
              "        'label': ClassLabel(shape=(), dtype=int64, num_classes=5),\n",
              "    }),\n",
              "    supervised_keys=('image', 'label'),\n",
              "    disable_shuffling=False,\n",
              "    splits={\n",
              "        'train': <SplitInfo num_examples=3670, num_shards=2>,\n",
              "    },\n",
              "    citation=\"\"\"@ONLINE {tfflowers,\n",
              "    author = \"The TensorFlow Team\",\n",
              "    title = \"Flowers\",\n",
              "    month = \"jan\",\n",
              "    year = \"2019\",\n",
              "    url = \"http://download.tensorflow.org/example_images/flower_photos.tgz\" }\"\"\",\n",
              ")"
            ]
          },
          "metadata": {},
          "execution_count": 3
        }
      ]
    },
    {
      "cell_type": "code",
      "source": [
        "class_names = info.features['label'].names\n",
        "class_names"
      ],
      "metadata": {
        "colab": {
          "base_uri": "https://localhost:8080/"
        },
        "id": "qwBkNXm4NXJD",
        "outputId": "de249bcd-09f3-44cc-b149-57daaba77e86"
      },
      "execution_count": 4,
      "outputs": [
        {
          "output_type": "execute_result",
          "data": {
            "text/plain": [
              "['dandelion', 'daisy', 'tulips', 'sunflowers', 'roses']"
            ]
          },
          "metadata": {},
          "execution_count": 4
        }
      ]
    },
    {
      "cell_type": "code",
      "source": [
        "for i, example in enumerate(dataset['train']):\n",
        "    image, label = example\n",
        "    save_dir = 'tf.flower/train/{}'.format(class_names[label])\n",
        "    os.makedirs(save_dir, exist_ok=True)\n",
        "\n",
        "    file_path = save_dir + \"/\" + \"{}_{}.jpg\".format(class_names[label], i)\n",
        "    tf.keras.preprocessing.image.save_img(file_path, image.numpy())\n"
      ],
      "metadata": {
        "id": "5tw7yje2NUte"
      },
      "execution_count": 5,
      "outputs": []
    },
    {
      "cell_type": "code",
      "source": [
        "from tensorflow.keras.preprocessing.image import ImageDataGenerator\n",
        "from tensorflow.keras.layers import Conv2D,MaxPooling2D,Flatten,Dense,Dropout,BatchNormalization\n",
        "from tensorflow.keras.models import Sequential\n",
        "from keras.callbacks import LearningRateScheduler"
      ],
      "metadata": {
        "id": "2ktD8yhpNbQF"
      },
      "execution_count": 6,
      "outputs": []
    },
    {
      "cell_type": "markdown",
      "source": [
        "##Data Augmentation"
      ],
      "metadata": {
        "id": "AKL5c1x9VkoI"
      }
    },
    {
      "cell_type": "code",
      "source": [
        "datagen = ImageDataGenerator(rescale=1/255,validation_split = 0.2,\n",
        "                             rotation_range = 10,width_shift_range = 0.1,height_shift_range = 0.1,\n",
        "                             shear_range = 0.1,zoom_range = 0.1,horizontal_flip = True,vertical_flip = True)\n",
        "\n",
        "train_gen = datagen.flow_from_directory('tf.flower/train',target_size = (224,224),batch_size = 4,class_mode = \"categorical\",subset = 'training')\n",
        "val_gen = datagen.flow_from_directory('tf.flower/train',target_size = (224,224),batch_size = 4,class_mode = \"categorical\",subset = 'validation')"
      ],
      "metadata": {
        "colab": {
          "base_uri": "https://localhost:8080/"
        },
        "id": "NEdgduRhVF4t",
        "outputId": "cf4466bb-2645-4c88-aecc-b42fca155026"
      },
      "execution_count": 7,
      "outputs": [
        {
          "output_type": "stream",
          "name": "stdout",
          "text": [
            "Found 2939 images belonging to 5 classes.\n",
            "Found 731 images belonging to 5 classes.\n"
          ]
        }
      ]
    },
    {
      "cell_type": "markdown",
      "source": [
        "##Creating Base Model"
      ],
      "metadata": {
        "id": "RFwdx0i-YnUy"
      }
    },
    {
      "cell_type": "code",
      "source": [
        "model = Sequential()\n",
        "\n",
        "model.add(Conv2D(64, (5, 5), activation='relu', input_shape=(224, 224, 3)))\n",
        "model.add(Conv2D(64, (5, 5), activation='relu'))\n",
        "model.add(MaxPooling2D(2))\n",
        "model.add(BatchNormalization())\n",
        "model.add(Dropout(0.25))\n",
        "\n",
        "model.add(Conv2D(128, (3, 3), activation='relu'))\n",
        "model.add(Conv2D(128, (3, 3), activation='relu'))\n",
        "model.add(MaxPooling2D(2))\n",
        "model.add(BatchNormalization())\n",
        "model.add(Dropout(0.25))\n",
        "\n",
        "model.add(Flatten())\n",
        "model.add(Dense(512, activation='relu'))\n",
        "model.add(Dropout(0.3))\n",
        "\n",
        "model.add(Dense(5, activation='softmax'))\n",
        "\n",
        "model.compile(loss = 'categorical_crossentropy',optimizer = 'adam',metrics = ['accuracy'])"
      ],
      "metadata": {
        "id": "qS1XVGVlYH7w"
      },
      "execution_count": 8,
      "outputs": []
    },
    {
      "cell_type": "code",
      "source": [
        "model.summary()"
      ],
      "metadata": {
        "colab": {
          "base_uri": "https://localhost:8080/"
        },
        "id": "WHDlt8lebRwU",
        "outputId": "b069e60b-5571-4001-bb22-902aeb9d069d"
      },
      "execution_count": 9,
      "outputs": [
        {
          "output_type": "stream",
          "name": "stdout",
          "text": [
            "Model: \"sequential\"\n",
            "_________________________________________________________________\n",
            " Layer (type)                Output Shape              Param #   \n",
            "=================================================================\n",
            " conv2d (Conv2D)             (None, 220, 220, 64)      4864      \n",
            "                                                                 \n",
            " conv2d_1 (Conv2D)           (None, 216, 216, 64)      102464    \n",
            "                                                                 \n",
            " max_pooling2d (MaxPooling2  (None, 108, 108, 64)      0         \n",
            " D)                                                              \n",
            "                                                                 \n",
            " batch_normalization (Batch  (None, 108, 108, 64)      256       \n",
            " Normalization)                                                  \n",
            "                                                                 \n",
            " dropout (Dropout)           (None, 108, 108, 64)      0         \n",
            "                                                                 \n",
            " conv2d_2 (Conv2D)           (None, 106, 106, 128)     73856     \n",
            "                                                                 \n",
            " conv2d_3 (Conv2D)           (None, 104, 104, 128)     147584    \n",
            "                                                                 \n",
            " max_pooling2d_1 (MaxPoolin  (None, 52, 52, 128)       0         \n",
            " g2D)                                                            \n",
            "                                                                 \n",
            " batch_normalization_1 (Bat  (None, 52, 52, 128)       512       \n",
            " chNormalization)                                                \n",
            "                                                                 \n",
            " dropout_1 (Dropout)         (None, 52, 52, 128)       0         \n",
            "                                                                 \n",
            " flatten (Flatten)           (None, 346112)            0         \n",
            "                                                                 \n",
            " dense (Dense)               (None, 512)               177209856 \n",
            "                                                                 \n",
            " dropout_2 (Dropout)         (None, 512)               0         \n",
            "                                                                 \n",
            " dense_1 (Dense)             (None, 5)                 2565      \n",
            "                                                                 \n",
            "=================================================================\n",
            "Total params: 177541957 (677.27 MB)\n",
            "Trainable params: 177541573 (677.27 MB)\n",
            "Non-trainable params: 384 (1.50 KB)\n",
            "_________________________________________________________________\n"
          ]
        }
      ]
    },
    {
      "cell_type": "code",
      "source": [
        "history = model.fit(train_gen,epochs = 8,validation_data = val_gen)"
      ],
      "metadata": {
        "colab": {
          "base_uri": "https://localhost:8080/"
        },
        "id": "Va8LiNysbgnW",
        "outputId": "176aef13-aa6d-4f05-996c-d2584c4b6af6"
      },
      "execution_count": null,
      "outputs": [
        {
          "output_type": "stream",
          "name": "stdout",
          "text": [
            "Epoch 1/8\n",
            "735/735 [==============================] - 103s 128ms/step - loss: 36.9050 - accuracy: 0.2763 - val_loss: 2.1950 - val_accuracy: 0.3160\n",
            "Epoch 2/8\n",
            "735/735 [==============================] - 92s 125ms/step - loss: 1.5837 - accuracy: 0.2998 - val_loss: 2.2318 - val_accuracy: 0.3365\n",
            "Epoch 3/8\n",
            "735/735 [==============================] - 91s 123ms/step - loss: 1.5554 - accuracy: 0.3072 - val_loss: 1.9899 - val_accuracy: 0.2900\n",
            "Epoch 4/8\n",
            "735/735 [==============================] - 90s 122ms/step - loss: 1.5349 - accuracy: 0.3273 - val_loss: 3.7715 - val_accuracy: 0.3830\n",
            "Epoch 5/8\n",
            "735/735 [==============================] - 89s 121ms/step - loss: 1.6020 - accuracy: 0.2630 - val_loss: 2.2368 - val_accuracy: 0.3051\n",
            "Epoch 6/8\n",
            "735/735 [==============================] - 90s 123ms/step - loss: 1.6013 - accuracy: 0.2766 - val_loss: 1.6355 - val_accuracy: 0.2777\n",
            "Epoch 7/8\n",
            "735/735 [==============================] - 89s 120ms/step - loss: 1.5962 - accuracy: 0.2579 - val_loss: 4.0639 - val_accuracy: 0.2982\n",
            "Epoch 8/8\n",
            "735/735 [==============================] - 89s 120ms/step - loss: 1.6019 - accuracy: 0.2562 - val_loss: 1.6132 - val_accuracy: 0.2531\n"
          ]
        }
      ]
    },
    {
      "cell_type": "markdown",
      "source": [
        "##Transfer Learning"
      ],
      "metadata": {
        "id": "IqCmkVrdjZ_k"
      }
    },
    {
      "cell_type": "code",
      "source": [
        "from tensorflow.keras.applications import VGG16\n",
        "model_VGG16 = VGG16(input_shape = (224,224,3),include_top = False,weights = 'imagenet')"
      ],
      "metadata": {
        "colab": {
          "base_uri": "https://localhost:8080/"
        },
        "id": "AJP3ESTidB6M",
        "outputId": "0bf7cc8f-8890-49a2-f278-12fe9fa97168"
      },
      "execution_count": 10,
      "outputs": [
        {
          "output_type": "stream",
          "name": "stdout",
          "text": [
            "Downloading data from https://storage.googleapis.com/tensorflow/keras-applications/vgg16/vgg16_weights_tf_dim_ordering_tf_kernels_notop.h5\n",
            "58889256/58889256 [==============================] - 0s 0us/step\n"
          ]
        }
      ]
    },
    {
      "cell_type": "code",
      "source": [
        "for layer in model_VGG16.layers:\n",
        "  layer.trainable = False\n",
        "\n",
        "model_VGG16.summary()"
      ],
      "metadata": {
        "colab": {
          "base_uri": "https://localhost:8080/"
        },
        "id": "udC0WHYukpBi",
        "outputId": "8a941a04-7550-4fb8-d73a-c8d0a46548aa"
      },
      "execution_count": 11,
      "outputs": [
        {
          "output_type": "stream",
          "name": "stdout",
          "text": [
            "Model: \"vgg16\"\n",
            "_________________________________________________________________\n",
            " Layer (type)                Output Shape              Param #   \n",
            "=================================================================\n",
            " input_1 (InputLayer)        [(None, 224, 224, 3)]     0         \n",
            "                                                                 \n",
            " block1_conv1 (Conv2D)       (None, 224, 224, 64)      1792      \n",
            "                                                                 \n",
            " block1_conv2 (Conv2D)       (None, 224, 224, 64)      36928     \n",
            "                                                                 \n",
            " block1_pool (MaxPooling2D)  (None, 112, 112, 64)      0         \n",
            "                                                                 \n",
            " block2_conv1 (Conv2D)       (None, 112, 112, 128)     73856     \n",
            "                                                                 \n",
            " block2_conv2 (Conv2D)       (None, 112, 112, 128)     147584    \n",
            "                                                                 \n",
            " block2_pool (MaxPooling2D)  (None, 56, 56, 128)       0         \n",
            "                                                                 \n",
            " block3_conv1 (Conv2D)       (None, 56, 56, 256)       295168    \n",
            "                                                                 \n",
            " block3_conv2 (Conv2D)       (None, 56, 56, 256)       590080    \n",
            "                                                                 \n",
            " block3_conv3 (Conv2D)       (None, 56, 56, 256)       590080    \n",
            "                                                                 \n",
            " block3_pool (MaxPooling2D)  (None, 28, 28, 256)       0         \n",
            "                                                                 \n",
            " block4_conv1 (Conv2D)       (None, 28, 28, 512)       1180160   \n",
            "                                                                 \n",
            " block4_conv2 (Conv2D)       (None, 28, 28, 512)       2359808   \n",
            "                                                                 \n",
            " block4_conv3 (Conv2D)       (None, 28, 28, 512)       2359808   \n",
            "                                                                 \n",
            " block4_pool (MaxPooling2D)  (None, 14, 14, 512)       0         \n",
            "                                                                 \n",
            " block5_conv1 (Conv2D)       (None, 14, 14, 512)       2359808   \n",
            "                                                                 \n",
            " block5_conv2 (Conv2D)       (None, 14, 14, 512)       2359808   \n",
            "                                                                 \n",
            " block5_conv3 (Conv2D)       (None, 14, 14, 512)       2359808   \n",
            "                                                                 \n",
            " block5_pool (MaxPooling2D)  (None, 7, 7, 512)         0         \n",
            "                                                                 \n",
            "=================================================================\n",
            "Total params: 14714688 (56.13 MB)\n",
            "Trainable params: 0 (0.00 Byte)\n",
            "Non-trainable params: 14714688 (56.13 MB)\n",
            "_________________________________________________________________\n"
          ]
        }
      ]
    },
    {
      "cell_type": "code",
      "source": [
        "model = Sequential()\n",
        "model.add(model_VGG16)\n",
        "model.add(Flatten())\n",
        "\n",
        "model.add(Dense(512,activation = 'relu'))\n",
        "model.add(Dropout(0.5))\n",
        "\n",
        "model.add(Dense(5,activation = 'softmax'))\n",
        "\n",
        "model.compile(loss = 'categorical_crossentropy',optimizer = 'adam',metrics = ['accuracy'])"
      ],
      "metadata": {
        "id": "__UL9y5WlrOL"
      },
      "execution_count": 12,
      "outputs": []
    },
    {
      "cell_type": "code",
      "source": [
        "model.summary()"
      ],
      "metadata": {
        "colab": {
          "base_uri": "https://localhost:8080/"
        },
        "id": "pDPr24dUmxBY",
        "outputId": "f4e5859e-a650-4032-db3e-b0fe54430a23"
      },
      "execution_count": 13,
      "outputs": [
        {
          "output_type": "stream",
          "name": "stdout",
          "text": [
            "Model: \"sequential_1\"\n",
            "_________________________________________________________________\n",
            " Layer (type)                Output Shape              Param #   \n",
            "=================================================================\n",
            " vgg16 (Functional)          (None, 7, 7, 512)         14714688  \n",
            "                                                                 \n",
            " flatten_1 (Flatten)         (None, 25088)             0         \n",
            "                                                                 \n",
            " dense_2 (Dense)             (None, 512)               12845568  \n",
            "                                                                 \n",
            " dropout_3 (Dropout)         (None, 512)               0         \n",
            "                                                                 \n",
            " dense_3 (Dense)             (None, 5)                 2565      \n",
            "                                                                 \n",
            "=================================================================\n",
            "Total params: 27562821 (105.14 MB)\n",
            "Trainable params: 12848133 (49.01 MB)\n",
            "Non-trainable params: 14714688 (56.13 MB)\n",
            "_________________________________________________________________\n"
          ]
        }
      ]
    },
    {
      "cell_type": "code",
      "source": [
        "def lr_schedule(epoch):\n",
        "    lr = 1e-3\n",
        "    if epoch > 13:\n",
        "        lr *= 0.1\n",
        "    elif epoch > 6:\n",
        "        lr *= 0.5\n",
        "    return lr\n",
        "\n",
        "learning_rate_scheduler = LearningRateScheduler(lr_schedule)\n",
        "\n",
        "history = model.fit(train_gen, epochs=20, validation_data=val_gen, callbacks=[learning_rate_scheduler])"
      ],
      "metadata": {
        "colab": {
          "base_uri": "https://localhost:8080/"
        },
        "id": "PalV0udBdZVi",
        "outputId": "341ee3cd-3192-46e7-a0b7-82fdc28cf11e"
      },
      "execution_count": 28,
      "outputs": [
        {
          "output_type": "stream",
          "name": "stdout",
          "text": [
            "Epoch 1/20\n",
            "735/735 [==============================] - 54s 73ms/step - loss: 0.7313 - accuracy: 0.7081 - val_loss: 0.6456 - val_accuracy: 0.7825 - lr: 0.0010\n",
            "Epoch 2/20\n",
            "735/735 [==============================] - 52s 71ms/step - loss: 0.7597 - accuracy: 0.6968 - val_loss: 0.7283 - val_accuracy: 0.7661 - lr: 0.0010\n",
            "Epoch 3/20\n",
            "735/735 [==============================] - 53s 72ms/step - loss: 0.7341 - accuracy: 0.7159 - val_loss: 0.5979 - val_accuracy: 0.7921 - lr: 0.0010\n",
            "Epoch 4/20\n",
            "735/735 [==============================] - 53s 72ms/step - loss: 0.7409 - accuracy: 0.7121 - val_loss: 0.7024 - val_accuracy: 0.7524 - lr: 0.0010\n",
            "Epoch 5/20\n",
            "735/735 [==============================] - 53s 72ms/step - loss: 0.7231 - accuracy: 0.7155 - val_loss: 0.6066 - val_accuracy: 0.7948 - lr: 0.0010\n",
            "Epoch 6/20\n",
            "735/735 [==============================] - 52s 71ms/step - loss: 0.7126 - accuracy: 0.7200 - val_loss: 0.5821 - val_accuracy: 0.7866 - lr: 0.0010\n",
            "Epoch 7/20\n",
            "735/735 [==============================] - 53s 72ms/step - loss: 0.7034 - accuracy: 0.7162 - val_loss: 0.6240 - val_accuracy: 0.7702 - lr: 0.0010\n",
            "Epoch 8/20\n",
            "735/735 [==============================] - 53s 72ms/step - loss: 0.6778 - accuracy: 0.7390 - val_loss: 0.5877 - val_accuracy: 0.7729 - lr: 5.0000e-04\n",
            "Epoch 9/20\n",
            "735/735 [==============================] - 54s 73ms/step - loss: 0.6849 - accuracy: 0.7281 - val_loss: 0.6086 - val_accuracy: 0.7825 - lr: 5.0000e-04\n",
            "Epoch 10/20\n",
            "735/735 [==============================] - 53s 71ms/step - loss: 0.6599 - accuracy: 0.7455 - val_loss: 0.6181 - val_accuracy: 0.7756 - lr: 5.0000e-04\n",
            "Epoch 11/20\n",
            "735/735 [==============================] - 53s 73ms/step - loss: 0.6487 - accuracy: 0.7445 - val_loss: 0.5908 - val_accuracy: 0.7962 - lr: 5.0000e-04\n",
            "Epoch 12/20\n",
            "735/735 [==============================] - 54s 73ms/step - loss: 0.6221 - accuracy: 0.7516 - val_loss: 0.5972 - val_accuracy: 0.8085 - lr: 5.0000e-04\n",
            "Epoch 13/20\n",
            "735/735 [==============================] - 53s 73ms/step - loss: 0.6373 - accuracy: 0.7458 - val_loss: 0.5994 - val_accuracy: 0.7893 - lr: 5.0000e-04\n",
            "Epoch 14/20\n",
            "735/735 [==============================] - 54s 73ms/step - loss: 0.6517 - accuracy: 0.7452 - val_loss: 0.5510 - val_accuracy: 0.7907 - lr: 5.0000e-04\n",
            "Epoch 15/20\n",
            "735/735 [==============================] - 54s 73ms/step - loss: 0.6056 - accuracy: 0.7618 - val_loss: 0.5707 - val_accuracy: 0.8030 - lr: 1.0000e-04\n",
            "Epoch 16/20\n",
            "735/735 [==============================] - 53s 72ms/step - loss: 0.6069 - accuracy: 0.7594 - val_loss: 0.5876 - val_accuracy: 0.7866 - lr: 1.0000e-04\n",
            "Epoch 17/20\n",
            "735/735 [==============================] - 53s 72ms/step - loss: 0.5851 - accuracy: 0.7666 - val_loss: 0.6112 - val_accuracy: 0.8030 - lr: 1.0000e-04\n",
            "Epoch 18/20\n",
            "735/735 [==============================] - 53s 72ms/step - loss: 0.5882 - accuracy: 0.7771 - val_loss: 0.5809 - val_accuracy: 0.8071 - lr: 1.0000e-04\n",
            "Epoch 19/20\n",
            "735/735 [==============================] - 52s 71ms/step - loss: 0.5738 - accuracy: 0.7707 - val_loss: 0.5625 - val_accuracy: 0.7852 - lr: 1.0000e-04\n",
            "Epoch 20/20\n",
            "735/735 [==============================] - 52s 71ms/step - loss: 0.5848 - accuracy: 0.7696 - val_loss: 0.5498 - val_accuracy: 0.8071 - lr: 1.0000e-04\n"
          ]
        }
      ]
    },
    {
      "cell_type": "markdown",
      "source": [
        "## Plotting the training loss and validation loss"
      ],
      "metadata": {
        "id": "I7qy7OskbXZ1"
      }
    },
    {
      "cell_type": "code",
      "source": [
        "train_loss = history.history['loss']\n",
        "val_loss = history.history['val_loss']\n",
        "\n",
        "epochs = range(1, len(train_loss) + 1)\n",
        "\n",
        "plt.plot(epochs, train_loss, label='Training Loss')\n",
        "plt.plot(epochs, val_loss, label='Validation Loss')\n",
        "plt.title('Training and Validation Loss')\n",
        "plt.xlabel('Epochs')\n",
        "plt.ylabel('Loss')\n",
        "plt.legend()\n",
        "plt.show()"
      ],
      "metadata": {
        "id": "5fZg1_HabO66",
        "colab": {
          "base_uri": "https://localhost:8080/",
          "height": 472
        },
        "outputId": "91a976be-6644-4e0e-c452-2699d5e817f6"
      },
      "execution_count": 29,
      "outputs": [
        {
          "output_type": "display_data",
          "data": {
            "text/plain": [
              "<Figure size 640x480 with 1 Axes>"
            ],
            "image/png": "[encoded data removed]"
          },
          "metadata": {}
        }
      ]
    },
    {
      "cell_type": "code",
      "source": [
        "model.save('Flowers_classifier.h5')"
      ],
      "metadata": {
        "id": "6xcOw7SsnQdI"
      },
      "execution_count": 30,
      "outputs": []
    },
    {
      "cell_type": "markdown",
      "source": [
        "## Prediction"
      ],
      "metadata": {
        "id": "BmU2lFH1nM1i"
      }
    },
    {
      "cell_type": "code",
      "source": [
        "import cv2 as cv\n",
        "\n",
        "img = cv.imread('/content/tf.flower/train/tulips/tulips_1023.jpg')\n",
        "img = cv.resize(img,(224,224))\n",
        "img = np.reshape(img,[1,224,224,3])\n",
        "img = img/255"
      ],
      "metadata": {
        "id": "Dm6BS3x3nyLK"
      },
      "execution_count": 31,
      "outputs": []
    },
    {
      "cell_type": "code",
      "source": [
        "pred = model.predict(img)"
      ],
      "metadata": {
        "id": "dG6pGt0rnySN",
        "colab": {
          "base_uri": "https://localhost:8080/"
        },
        "outputId": "0a4eaea7-b786-45fa-b7e1-8745eb857940"
      },
      "execution_count": 32,
      "outputs": [
        {
          "output_type": "stream",
          "name": "stdout",
          "text": [
            "1/1 [==============================] - 0s 19ms/step\n"
          ]
        }
      ]
    },
    {
      "cell_type": "code",
      "source": [
        "max_id = np.argmax(pred)\n",
        "class_idx = {v:k for k,v in train_gen.class_indices.items()}\n",
        "class_idx[max_id]"
      ],
      "metadata": {
        "id": "wlJCDQ1mnyX_",
        "colab": {
          "base_uri": "https://localhost:8080/",
          "height": 36
        },
        "outputId": "dc0cbf4e-5135-4037-e4dc-9a6d60d8b3ee"
      },
      "execution_count": 33,
      "outputs": [
        {
          "output_type": "execute_result",
          "data": {
            "text/plain": [
              "'roses'"
            ],
            "application/vnd.google.colaboratory.intrinsic+json": {
              "type": "string"
            }
          },
          "metadata": {},
          "execution_count": 33
        }
      ]
    },
    {
      "cell_type": "code",
      "source": [],
      "metadata": {
        "id": "NncCAWfIqzhl"
      },
      "execution_count": 20,
      "outputs": []
    }
  ]
}